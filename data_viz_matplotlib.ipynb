{
  "nbformat": 4,
  "nbformat_minor": 0,
  "metadata": {
    "colab": {
      "private_outputs": true,
      "provenance": [],
      "collapsed_sections": [
        "6Tm3O511a5NH",
        "IETtcFCXzSIX",
        "IqgMK4u7zg2y",
        "wTsaP62ca_9y",
        "6IEfdsc_bqkg",
        "LmC_nmM7b-No"
      ],
      "include_colab_link": true
    },
    "kernelspec": {
      "name": "python3",
      "display_name": "Python 3"
    },
    "language_info": {
      "name": "python"
    }
  },
  "cells": [
    {
      "cell_type": "markdown",
      "metadata": {
        "id": "view-in-github",
        "colab_type": "text"
      },
      "source": [
        "<a href=\"https://colab.research.google.com/github/annikarichardson2024/DataVizHW/blob/main/data_viz_matplotlib.ipynb\" target=\"_parent\"><img src=\"https://colab.research.google.com/assets/colab-badge.svg\" alt=\"Open In Colab\"/></a>"
      ]
    },
    {
      "cell_type": "code",
      "source": [
        "!pip install matplotlib==3.4"
      ],
      "metadata": {
        "id": "J0A34Y9Xo8qr"
      },
      "execution_count": null,
      "outputs": []
    },
    {
      "cell_type": "code",
      "metadata": {
        "id": "vXUEp4BYxNNl"
      },
      "source": [
        "from matplotlib import pyplot as plt\n",
        "plt.style.use('seaborn-whitegrid')\n",
        "import numpy as np"
      ],
      "execution_count": null,
      "outputs": []
    },
    {
      "cell_type": "code",
      "source": [
        "import pandas as pd\n",
        "df = pd.read_csv(\"https://raw.githubusercontent.com/annikarichardson2024/DataVizHW/main/Top_Highest_Openings.csv\", low_memory = False)\n",
        "df = df.loc[1:30,['Release','Opening','% of Total','Theaters','Distributor'] ]\n",
        "print(df)"
      ],
      "metadata": {
        "id": "cRaHrf6io-qb"
      },
      "execution_count": null,
      "outputs": []
    },
    {
      "cell_type": "code",
      "source": [
        "var_name = df.loc[1:30,['Release'] ]\n",
        "var_percent = df.loc[1:30,['% of Total'] ]\n",
        "var_theater = df.loc[1:30,['Theaters'] ]\n",
        "var_distibutor = df.loc[1:30,['Distributor'] ]"
      ],
      "metadata": {
        "id": "4ONoY64IprdM"
      },
      "execution_count": null,
      "outputs": []
    },
    {
      "cell_type": "markdown",
      "source": [
        "**Scatter Plot**: showing relation between the % of total gross earnings represented by the opening weekend earnings and the total number of theaters where the movie was screened during its release."
      ],
      "metadata": {
        "id": "vtX6TatSqwXW"
      }
    },
    {
      "cell_type": "code",
      "source": [
        "fig, ax = plt.subplots()\n",
        "ax.scatter(var_percent, var_theater, color='violet');\n",
        "\n",
        "ax.set_title('Relation between gross earnings % and theater screenings');\n",
        "ax.set_xlabel('% of total gross earning happening opening weekend')\n",
        "ax.set_ylabel('total # of theaters screening film')"
      ],
      "metadata": {
        "id": "Ewhi2IzZqdB9"
      },
      "execution_count": null,
      "outputs": []
    },
    {
      "cell_type": "markdown",
      "source": [
        "**Histogram**"
      ],
      "metadata": {
        "id": "K4bri-AOsy8N"
      }
    },
    {
      "cell_type": "code",
      "source": [
        "plt.hist(var_distibutor,\n",
        "         color='steelblue',\n",
        "         edgecolor='black');\n",
        "\n",
        "plt.xticks(rotation=45)\n",
        "plt.xlabel('Distributor')\n",
        "plt.ylabel('Count of top 30 grossing films for each distributor')\n",
        "plt.title('Movie Distributor Counts for highest grossing films')"
      ],
      "metadata": {
        "id": "YV8Xq5TPszPo"
      },
      "execution_count": null,
      "outputs": []
    },
    {
      "cell_type": "markdown",
      "source": [
        "**Bar** **Graph**"
      ],
      "metadata": {
        "id": "bbeJ4TF-vrBs"
      }
    },
    {
      "cell_type": "code",
      "source": [
        "film_name = df['Release'].head(12)\n",
        "film_rev = df['Opening'].head(12)\n",
        "\n",
        "fig = plt.figure()\n",
        "ax = plt.axes()\n",
        "ax.bar(film_name[0:10], film_rev[0:10], color='teal', width = 0.5);\n",
        "\n",
        "plt.xticks(rotation=90)\n",
        "plt.xlabel('Film Title')\n",
        "plt.ylabel('Film revenue (Billion)')\n",
        "ax.set_title('Revenue of top grossing movies earned during opening weekend');\n",
        "\n",
        "ax.set_ylim(100000000, 300000000);\n"
      ],
      "metadata": {
        "id": "pGdAAzJx1sms"
      },
      "execution_count": null,
      "outputs": []
    }
  ]
}